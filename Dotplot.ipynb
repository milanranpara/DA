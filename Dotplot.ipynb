import matplotlib.pyplot as plt
import pandas as pd
import seaborn as sns

df=pd.read_csv("Book2.csv")
df
sns.stripplot(x=df['xi'], y=df['Frequency Distribution'])
